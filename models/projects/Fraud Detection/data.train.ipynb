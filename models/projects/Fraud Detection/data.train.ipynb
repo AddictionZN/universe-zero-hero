{
 "cells": [
  {
   "cell_type": "markdown",
   "metadata": {},
   "source": [
    "# Data Train Functions"
   ]
  },
  {
   "cell_type": "code",
   "execution_count": null,
   "metadata": {},
   "outputs": [],
   "source": [
    "def build_pipeline():\n",
    "    from sklearn.pipeline import Pipeline\n",
    "    from sklearn.impute import SimpleImputer\n",
    "    from sklearn.preprocessing import QuantileTransformer\n",
    "    from sklearn.preprocessing import StandardScaler\n",
    "\n",
    "    pipeline = Pipeline([\n",
    "        ('imputer', SimpleImputer(strategy=\"median\")),\n",
    "        ('quantile_transformer', QuantileTransformer(output_distribution='normal')),\n",
    "        ('std_scaler', StandardScaler()),\n",
    "    ])\n",
    "    \n",
    "    return pipeline"
   ]
  },
  {
   "cell_type": "code",
   "execution_count": null,
   "metadata": {},
   "outputs": [],
   "source": [
    "def train_test_split(data, target):\n",
    "    from sklearn.model_selection import train_test_split\n",
    "\n",
    "    print('No Frauds', round(data['isFraud'].value_counts()[0]/len(data) * 100,2), '% of the dataset')\n",
    "    print('Frauds', round(data['isFraud'].value_counts()[1]/len(data) * 100,2), '% of the dataset')\n",
    "    \n",
    "    features = data.drop(target, axis=1)\n",
    "    targets = data[target]\n",
    "    \n",
    "    x_train, x_test, y_train, y_test = train_test_split(features, targets, test_size=0.2, shuffle=True, stratify=targets)\n",
    "\n",
    "    print(\"Number transactions x_train dataset: \", x_train.shape)\n",
    "    print(\"Number transactions y_train dataset: \", y_train.shape)\n",
    "    print(\"*\" * 100)\n",
    "    print(\"Number transactions x_test dataset: \", x_test.shape)\n",
    "    print(\"Number transactions y_test dataset: \", y_test.shape)\n",
    "\n",
    "    return x_train, x_test, y_train, y_test"
   ]
  },
  {
   "cell_type": "code",
   "execution_count": null,
   "metadata": {},
   "outputs": [],
   "source": [
    "def scale_pipeline(data, columns):\n",
    "    pipeline = build_pipeline()\n",
    "\n",
    "    features = data[columns]\n",
    "\n",
    "    scaled_features = pipeline.fit_transform(features.values)\n",
    "    \n",
    "    data[columns] = scaled_features\n",
    "\n",
    "    return data"
   ]
  }
 ],
 "metadata": {
  "language_info": {
   "name": "python"
  }
 },
 "nbformat": 4,
 "nbformat_minor": 2
}
