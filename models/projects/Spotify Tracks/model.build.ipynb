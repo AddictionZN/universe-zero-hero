{
 "cells": [
  {
   "cell_type": "markdown",
   "metadata": {},
   "source": [
    "# Spotify Tracks Model Building Notebook"
   ]
  },
  {
   "cell_type": "code",
   "execution_count": null,
   "metadata": {},
   "outputs": [],
   "source": [
    "def build_model(embedding_size=50, classification=False, track_index=None, album_index=None):\n",
    "    from keras.layers import Input, Embedding, Dot, Reshape, Dense\n",
    "    from keras.models import Model\n",
    "    \n",
    "    # Validate the indices\n",
    "    if track_index is None or album_index is None:\n",
    "        raise ValueError(\"track_index and album_index must be provided\")\n",
    "    \n",
    "    # Both inputs are 1-dimensional\n",
    "    track_input = Input(name='track', shape=[1])\n",
    "    album_input = Input(name='album', shape=[1])\n",
    "    \n",
    "    # Embedding the track (shape will be (None, 1, 50))\n",
    "    track_embedding = Embedding(name='track_embedding',\n",
    "                                input_dim=len(track_index),\n",
    "                                output_dim=embedding_size)(track_input)\n",
    "    \n",
    "    # Embedding the album (shape will be (None, 1, 50))\n",
    "    album_embedding = Embedding(name='album_embedding',\n",
    "                                input_dim=len(album_index),\n",
    "                                output_dim=embedding_size)(album_input)\n",
    "    \n",
    "    # Merge the layers with a dot product along the second axis (shape will be (None, 1, 1))\n",
    "    merged = Dot(name='dot_product', normalize=True, axes=2)([track_embedding, album_embedding])\n",
    "    \n",
    "    # Reshape to be a single number (shape will be (None, 1))\n",
    "    merged = Reshape(target_shape=[1])(merged)\n",
    "    \n",
    "    # If classification, add an extra layer and loss function is binary cross entropy\n",
    "    if classification:\n",
    "        merged = Dense(1, activation='sigmoid')(merged)\n",
    "        model = Model(inputs=[track_input, album_input], outputs=merged)\n",
    "        model.compile(optimizer='Adam', loss='binary_crossentropy', metrics=['accuracy'])\n",
    "    # Otherwise, loss function is mean squared error\n",
    "    else:\n",
    "        model = Model(inputs=[track_input, album_input], outputs=merged)\n",
    "        model.compile(optimizer='Adam', loss='mse')\n",
    "    \n",
    "    return model"
   ]
  }
 ],
 "metadata": {
  "kernelspec": {
   "display_name": "base",
   "language": "python",
   "name": "python3"
  },
  "language_info": {
   "codemirror_mode": {
    "name": "ipython",
    "version": 3
   },
   "file_extension": ".py",
   "mimetype": "text/x-python",
   "name": "python",
   "nbconvert_exporter": "python",
   "pygments_lexer": "ipython3",
   "version": "3.10.12"
  }
 },
 "nbformat": 4,
 "nbformat_minor": 2
}
