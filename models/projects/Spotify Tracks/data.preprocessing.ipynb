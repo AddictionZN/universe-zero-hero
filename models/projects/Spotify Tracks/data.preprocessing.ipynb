{
 "cells": [
  {
   "cell_type": "markdown",
   "metadata": {},
   "source": [
    "# Spotify Tracks Data Preprocessing Notebook"
   ]
  },
  {
   "cell_type": "markdown",
   "metadata": {},
   "source": [
    "## Convert the Dataset -> Pandas"
   ]
  },
  {
   "cell_type": "code",
   "execution_count": null,
   "metadata": {},
   "outputs": [],
   "source": [
    "dataset_copy = dataset.copy()"
   ]
  },
  {
   "cell_type": "code",
   "execution_count": null,
   "metadata": {},
   "outputs": [],
   "source": [
    "df_spotify = pd.DataFrame(dataset_copy['train'])"
   ]
  },
  {
   "cell_type": "code",
   "execution_count": null,
   "metadata": {},
   "outputs": [],
   "source": [
    "def data_preprocessing(data):\n",
    "    def value_encode(column):\n",
    "        unique_values = column.unique()\n",
    "        return {val: i for i, val in enumerate(unique_values)}\n",
    "\n",
    "    data_copy = data.copy()\n",
    "    data_copy.drop('Unnamed: 0', inplace=True, axis=1)\n",
    "\n",
    "    track_index = value_encode(data_copy['track_id'])\n",
    "    album_index = value_encode(data_copy['album_name'])\n",
    "\n",
    "    data_copy['track_id'] = data_copy['track_id'].map(track_index)\n",
    "    data_copy['album_name'] = data_copy['album_name'].map(album_index)\n",
    "\n",
    "    return data_copy"
   ]
  }
 ],
 "metadata": {
  "kernelspec": {
   "display_name": "base",
   "language": "python",
   "name": "python3"
  },
  "language_info": {
   "codemirror_mode": {
    "name": "ipython",
    "version": 3
   },
   "file_extension": ".py",
   "mimetype": "text/x-python",
   "name": "python",
   "nbconvert_exporter": "python",
   "pygments_lexer": "ipython3",
   "version": "3.10.12"
  }
 },
 "nbformat": 4,
 "nbformat_minor": 2
}
