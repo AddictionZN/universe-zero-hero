{
 "cells": [
  {
   "cell_type": "markdown",
   "metadata": {},
   "source": [
    "# Spotify Tracks Recommendation System"
   ]
  },
  {
   "cell_type": "code",
   "execution_count": null,
   "metadata": {},
   "outputs": [],
   "source": [
    "%run ../../common/model.requirements.ipynb"
   ]
  },
  {
   "cell_type": "code",
   "execution_count": null,
   "metadata": {},
   "outputs": [],
   "source": [
    "%run ../../common/data.requirements.ipynb"
   ]
  },
  {
   "cell_type": "code",
   "execution_count": null,
   "metadata": {},
   "outputs": [],
   "source": [
    "%run ../../../data/external/spotify-tracks-dataset.ipynb"
   ]
  },
  {
   "cell_type": "code",
   "execution_count": null,
   "metadata": {},
   "outputs": [],
   "source": [
    "%run data.preprocessing.ipynb"
   ]
  },
  {
   "cell_type": "code",
   "execution_count": null,
   "metadata": {},
   "outputs": [],
   "source": [
    "%run data.train.ipynb"
   ]
  },
  {
   "cell_type": "code",
   "execution_count": null,
   "metadata": {},
   "outputs": [],
   "source": [
    "%run model.build.ipynb"
   ]
  },
  {
   "cell_type": "code",
   "execution_count": null,
   "metadata": {},
   "outputs": [],
   "source": [
    "data_train = data_preprocessing(df_spotify)"
   ]
  },
  {
   "cell_type": "code",
   "execution_count": null,
   "metadata": {},
   "outputs": [],
   "source": [
    "def generate_batch(pairs, tracks, albums, pairs_set, n_positive=50, negative_ratio=1.0, classification=False):\n",
    "    import numpy as np\n",
    "    import random\n",
    "\n",
    "    batch_size = int(n_positive * (1 + negative_ratio))\n",
    "    batch = np.zeros((batch_size, 3))\n",
    "    \n",
    "    if classification:\n",
    "        neg_label = 0\n",
    "    else:\n",
    "        neg_label = -1\n",
    "    \n",
    "    while True:\n",
    "        for idx, (track_id, album_name) in enumerate(random.sample(pairs, n_positive)):\n",
    "            batch[idx, :] = (track_id, album_name, 1)\n",
    "\n",
    "        idx += 1\n",
    "        \n",
    "        while idx < batch_size:\n",
    "            random_track = random.randrange(len(tracks))\n",
    "            random_album = random.randrange(len(albums))\n",
    "            \n",
    "            if (tracks[random_track], albums[random_album]) not in pairs_set:\n",
    "                batch[idx, :] = (tracks[random_track], albums[random_album], neg_label)\n",
    "                idx += 1\n",
    "                \n",
    "        np.random.shuffle(batch)\n",
    "        yield {'track': batch[:, 0], 'album': batch[:, 1]}, batch[:, 2]"
   ]
  },
  {
   "cell_type": "code",
   "execution_count": null,
   "metadata": {},
   "outputs": [],
   "source": [
    "pairs = list(zip(data_train['track_id'], data_train['album_name']))\n",
    "pairs_set = set(pairs)\n",
    "\n",
    "unique_tracks = data_train['track_id'].unique()\n",
    "unique_albums = data_train['album_name'].unique()\n",
    "\n",
    "track_index = {track_id: idx for idx, track_id in enumerate(unique_tracks)}\n",
    "album_index = {album_name: idx for idx, album_name in enumerate(unique_albums)}"
   ]
  },
  {
   "cell_type": "code",
   "execution_count": null,
   "metadata": {},
   "outputs": [],
   "source": [
    "x, y = next(generate_batch(pairs, track_index, album_index, pairs_set, n_positive = 2, negative_ratio = 2))"
   ]
  },
  {
   "cell_type": "code",
   "execution_count": null,
   "metadata": {},
   "outputs": [],
   "source": [
    "model = build_model(track_index=track_index, album_index=album_index)\n",
    "model.summary()"
   ]
  },
  {
   "cell_type": "code",
   "execution_count": null,
   "metadata": {},
   "outputs": [],
   "source": [
    "n_positive = 1024\n",
    "\n",
    "gen = generate_batch(pairs, unique_tracks, unique_albums, pairs_set, n_positive, negative_ratio=2)\n",
    "\n",
    "train_model = model.fit(x=gen, epochs=15, steps_per_epoch=len(pairs) // n_positive, verbose=2)"
   ]
  },
  {
   "cell_type": "markdown",
   "metadata": {},
   "source": [
    "## Test the Recommendation System"
   ]
  },
  {
   "cell_type": "code",
   "execution_count": 17,
   "metadata": {},
   "outputs": [],
   "source": [
    "%run model.test.ipynb"
   ]
  },
  {
   "cell_type": "code",
   "execution_count": 18,
   "metadata": {},
   "outputs": [],
   "source": [
    "track_layer = model.get_layer('track_embedding')\n",
    "track_weights = track_layer.get_weights()[0]\n",
    "track_weights = track_weights / np.linalg.norm(track_weights, axis = 1).reshape((-1, 1))"
   ]
  },
  {
   "cell_type": "code",
   "execution_count": 19,
   "metadata": {},
   "outputs": [
    {
     "name": "stdout",
     "output_type": "stream",
     "text": [
      "Tracks most similar to \"Tu Kahaan - 1 Min Music\":\n",
      "1. Tu Kahaan - 1 Min Music - Similarity: 1.00\n",
      "2. Blue Train - Similarity: 0.56\n",
      "3. Tose Naina (From \"Mickey Virus) - Similarity: 0.55\n",
      "4. 何度目の青空か? - Similarity: 0.55\n",
      "5. De História em História - Similarity: 0.55\n",
      "6. 愛を知る - Similarity: 0.52\n",
      "7. Talk It Out - Similarity: 0.51\n",
      "8. Don't Cry Daddy - Similarity: 0.51\n",
      "9. Chala Head Chala - Similarity: 0.50\n",
      "10. Thillana 2.0 - Dhanashree (feat. Sharanya Srinivas) - Similarity: 0.50\n"
     ]
    }
   ],
   "source": [
    "random_track = random_track(data_train)\n",
    "find_similar(track_name=random_track, data=data_train, weights=track_weights)"
   ]
  }
 ],
 "metadata": {
  "kernelspec": {
   "display_name": "base",
   "language": "python",
   "name": "python3"
  },
  "language_info": {
   "codemirror_mode": {
    "name": "ipython",
    "version": 3
   },
   "file_extension": ".py",
   "mimetype": "text/x-python",
   "name": "python",
   "nbconvert_exporter": "python",
   "pygments_lexer": "ipython3",
   "version": "3.10.12"
  }
 },
 "nbformat": 4,
 "nbformat_minor": 2
}
