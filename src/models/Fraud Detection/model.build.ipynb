{
 "cells": [
  {
   "cell_type": "markdown",
   "metadata": {},
   "source": [
    "# Fraud Detection Model Build Notebook"
   ]
  },
  {
   "cell_type": "code",
   "execution_count": null,
   "metadata": {},
   "outputs": [],
   "source": [
    "def train_model(x_train, y_train, params):\n",
    "    from xgboost import XGBClassifier\n",
    "    from imblearn.over_sampling import SMOTE\n",
    "    from imblearn.under_sampling import RandomUnderSampler\n",
    "    from imblearn.pipeline import Pipeline\n",
    "\n",
    "    print(\"Before OverSampling, counts of label '1': {}\".format(sum(y_train==1)))\n",
    "    print(\"Before OverSampling, counts of label '0': {} \\n\".format(sum(y_train==0)))\n",
    "    print(\"*\" * 100)\n",
    "\n",
    "    under_sample = RandomUnderSampler(sampling_strategy = 0.1)\n",
    "    over_sample = SMOTE(sampling_strategy = 0.5)\n",
    "\n",
    "    steps = [('under_sample', under_sample),('over_sample', over_sample)]\n",
    "    pipeline = Pipeline(steps=steps)\n",
    "    \n",
    "    x_train_sample, y_train_sample = pipeline.fit_resample(x_train, y_train)\n",
    "\n",
    "    print('After OverSampling, the shape of train_X: {}'.format(x_train_sample.shape))\n",
    "    print('After OverSampling, the shape of train_y: {} \\n'.format(y_train_sample.shape))\n",
    "\n",
    "    print(\"*\" * 100)\n",
    "    print(\"After OverSampling, counts of label '1': {}\".format(sum(y_train_sample==1)))\n",
    "    print(\"After OverSampling, counts of label '0': {}\".format(sum(y_train_sample==0)))\n",
    "\n",
    "    print(\"Model Training\")\n",
    "    print(\"*\" * 100)\n",
    "\n",
    "    train_model = XGBClassifier(**params)\n",
    "\n",
    "    model = train_model.fit(x_train_sample, y_train_sample)\n",
    "\n",
    "    return model"
   ]
  }
 ],
 "metadata": {
  "language_info": {
   "name": "python"
  }
 },
 "nbformat": 4,
 "nbformat_minor": 2
}
