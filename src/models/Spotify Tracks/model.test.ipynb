{
 "cells": [
  {
   "cell_type": "markdown",
   "metadata": {},
   "source": [
    "# Spotify Tracks Test Notebook"
   ]
  },
  {
   "cell_type": "code",
   "execution_count": null,
   "metadata": {},
   "outputs": [],
   "source": [
    "def random_track(data_train):\n",
    "    if 'track_name' not in data_train.columns:\n",
    "        raise ValueError(\"The DataFrame does not have a 'track_name' column.\")\n",
    "    \n",
    "    random_track = data_train['track_name'].sample(n=1).iloc[0]\n",
    "    return random_track"
   ]
  },
  {
   "cell_type": "code",
   "execution_count": null,
   "metadata": {},
   "outputs": [],
   "source": [
    "def find_similar(track_name, data, weights, n=10, least=False, return_dist=False):\n",
    "    import numpy as np\n",
    "    import pandas as pd\n",
    "    import matplotlib.pyplot as plt\n",
    "    %matplotlib inline\n",
    "    \n",
    "    name_to_id = pd.Series(data['track_id'].values, index=data['track_name']).to_dict()\n",
    "    \n",
    "    try:\n",
    "        track_id = name_to_id[track_name]\n",
    "    except KeyError:\n",
    "        print(f'Track name \"{track_name}\" not found in the dataset.')\n",
    "        return\n",
    "    \n",
    "    try:\n",
    "        dists = np.dot(weights, weights[track_id])\n",
    "    except IndexError as e:\n",
    "        print(f'Index error: {e}')\n",
    "        return\n",
    "    \n",
    "    sorted_dists_indices = np.argsort(dists)\n",
    "    \n",
    "    if least:\n",
    "        closest_indices = sorted_dists_indices[:n]\n",
    "    else:\n",
    "        closest_indices = sorted_dists_indices[-n:]\n",
    "    \n",
    "    if return_dist:\n",
    "        return dists, closest_indices\n",
    "    \n",
    "    similar_tracks = data.loc[data['track_id'].isin(closest_indices), 'track_name']\n",
    "    \n",
    "    print(f'Tracks most similar to \"{track_name}\":')\n",
    "    for i, index in enumerate(reversed(closest_indices)):\n",
    "        print(f'{i+1}. {data.loc[data[\"track_id\"] == index, \"track_name\"].values[0]} - Similarity: {dists[index]:.2f}')"
   ]
  },
  {
   "cell_type": "code",
   "execution_count": null,
   "metadata": {},
   "outputs": [],
   "source": []
  }
 ],
 "metadata": {
  "language_info": {
   "name": "python"
  }
 },
 "nbformat": 4,
 "nbformat_minor": 2
}
