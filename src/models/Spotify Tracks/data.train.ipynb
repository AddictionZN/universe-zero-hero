{
 "cells": [
  {
   "cell_type": "code",
   "execution_count": null,
   "metadata": {},
   "outputs": [],
   "source": [
    "def build_pipeline():\n",
    "    from sklearn.pipeline import Pipeline\n",
    "    from sklearn.cluster import KMeans\n",
    "    from sklearn.preprocessing import StandardScaler\n",
    "\n",
    "    pipeline = Pipeline([\n",
    "        ('std_scaler', StandardScaler()),\n",
    "        ('kmeans', KMeans(n_clusters=10, n_jobs=-1))\n",
    "    ])\n",
    "    \n",
    "    return pipeline"
   ]
  },
  {
   "cell_type": "code",
   "execution_count": null,
   "metadata": {},
   "outputs": [],
   "source": [
    "def train_test_split_processing(data, target):\n",
    "    from sklearn.model_selection import train_test_split\n",
    "    \n",
    "    feature_set = data.drop(target, axis=1)\n",
    "    target_set = data[target]\n",
    "\n",
    "    x_train, x_test, y_train, y_test = train_test_split(feature_set, target_set, test_size=0.20, shuffle=False)\n",
    "\n",
    "    return x_train, x_test, y_train, y_test"
   ]
  },
  {
   "cell_type": "code",
   "execution_count": null,
   "metadata": {},
   "outputs": [],
   "source": [
    "def scale_pipeline(data, columns):\n",
    "    pipeline = build_pipeline()\n",
    "\n",
    "    features = data[columns]\n",
    "\n",
    "    scaled_features = pipeline.fit_transform(features.values)\n",
    "    \n",
    "    data[columns] = scaled_features\n",
    "\n",
    "    return data"
   ]
  }
 ],
 "metadata": {
  "language_info": {
   "name": "python"
  }
 },
 "nbformat": 4,
 "nbformat_minor": 2
}
