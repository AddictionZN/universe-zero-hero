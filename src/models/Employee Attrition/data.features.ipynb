{
 "cells": [
  {
   "cell_type": "code",
   "execution_count": 1,
   "metadata": {},
   "outputs": [],
   "source": [
    "import featuretools as ft\n",
    "import pandas as pd\n",
    "from datetime import datetime, timedelta\n",
    "import numpy as np\n",
    "import random"
   ]
  },
  {
   "cell_type": "code",
   "execution_count": null,
   "metadata": {},
   "outputs": [],
   "source": [
    "%run ../../../data/raw/employee_generator.ipynb"
   ]
  },
  {
   "cell_type": "code",
   "execution_count": null,
   "metadata": {},
   "outputs": [],
   "source": [
    "class DynamicFeatureEngineering:\n",
    "    def __init__(self, employee_data, course_data, leave_data, timesheet_data):\n",
    "        self.employee_data = employee_data\n",
    "        self.course_data = course_data\n",
    "        self.leave_data = leave_data\n",
    "        self.timesheet_data = timesheet_data\n",
    "        self.add_attrition_feature()\n",
    "\n",
    "        self.es = ft.EntitySet(id=\"AttritionFeatures\")\n",
    "\n",
    "        self.es = self.es.add_dataframe(dataframe_name=\"employees\",\n",
    "                                        dataframe=self.employee_data,\n",
    "                                        index=\"Employee ID\",\n",
    "                                        time_index=\"Start Date\")\n",
    "        \n",
    "        self.es = self.es.add_dataframe(dataframe_name=\"courses\",\n",
    "                                        dataframe=self.course_data,\n",
    "                                        index=\"Course ID\",\n",
    "                                        time_index=\"Course Start Date\")\n",
    "        \n",
    "        self.es = self.es.add_relationship(\"employees\", \"Employee ID\", \"courses\", \"Employee ID\")\n",
    "        \n",
    "        self.es = self.es.add_dataframe(dataframe_name=\"leaves\",\n",
    "                                        dataframe=self.leave_data,\n",
    "                                        index=\"Leave ID\",\n",
    "                                        time_index=\"Leave Date\")\n",
    "\n",
    "        self.es = self.es.add_relationship(\"employees\", \"Employee ID\", \"leaves\", \"Employee ID\")\n",
    "\n",
    "        self.es = self.es.add_dataframe(dataframe_name=\"timesheets\",\n",
    "                                        dataframe=self.timesheet_data,\n",
    "                                        index=\"Timesheet ID\",\n",
    "                                        time_index=\"Timesheet Date\")\n",
    "\n",
    "        self.es = self.es.add_relationship(\"employees\", \"Employee ID\", \"timesheets\", \"Employee ID\")\n",
    "\n",
    "    def add_attrition_feature(self):\n",
    "        self.employee_data['Attrition'] = self.employee_data['Termination Date'].apply(\n",
    "            lambda x: 1 if pd.notna(x) else 0\n",
    "        )\n",
    "        \n",
    "    def generate_features(self):\n",
    "        feature_matrix, feature_defs = ft.dfs(entityset=self.es,\n",
    "                                            target_dataframe_name=\"employees\",\n",
    "                                            agg_primitives=[\"mean\", \"sum\", \"max\", \"min\", \"mode\", \"count\", \"trend\", \"std\"],\n",
    "                                            trans_primitives=[\"add_numeric\", \"multiply_numeric\", \"month\", \"weekday\", \"day\", \"year\", \"is_weekend\"],\n",
    "                                            where_primitives=[\"mean\", \"sum\"],\n",
    "                                            max_depth=3)\n",
    "        return feature_matrix"
   ]
  },
  {
   "cell_type": "code",
   "execution_count": 7,
   "metadata": {},
   "outputs": [],
   "source": [
    "def dynamic_features(n_employees):\n",
    "    employee_manager = EmployeeManager(n_employees)\n",
    "    course_manager = CourseManager(employee_manager.employees)\n",
    "    leave_manager = LeaveManager(employee_manager.employees)\n",
    "    timesheet_manager = TimesheetManager(employee_manager.employees, datetime.now())\n",
    "\n",
    "    employee_data = employee_manager.get_employee_data()\n",
    "    course_data = course_manager.get_course_data()\n",
    "    leave_data = leave_manager.get_leave_data()\n",
    "    timesheet_data = timesheet_manager.get_timesheet_data()\n",
    "\n",
    "    features = DynamicFeatureEngineering(employee_data, course_data, leave_data, timesheet_data)\n",
    "    features_feature_matrix = features.generate_features()\n",
    "\n",
    "    return features_feature_matrix"
   ]
  }
 ],
 "metadata": {
  "kernelspec": {
   "display_name": "base",
   "language": "python",
   "name": "python3"
  },
  "language_info": {
   "codemirror_mode": {
    "name": "ipython",
    "version": 3
   },
   "file_extension": ".py",
   "mimetype": "text/x-python",
   "name": "python",
   "nbconvert_exporter": "python",
   "pygments_lexer": "ipython3",
   "version": "3.10.12"
  }
 },
 "nbformat": 4,
 "nbformat_minor": 2
}
