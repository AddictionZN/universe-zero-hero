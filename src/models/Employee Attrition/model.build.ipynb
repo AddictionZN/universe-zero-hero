{
 "cells": [
  {
   "cell_type": "code",
   "execution_count": null,
   "metadata": {},
   "outputs": [],
   "source": [
    "def train_model(x_train, y_train, params):\n",
    "    from xgboost import XGBClassifier\n",
    "    from imblearn.over_sampling import SMOTE\n",
    "\n",
    "    print(\"Model Training\")\n",
    "    print(\"*\" * 100)\n",
    "\n",
    "    sample = SMOTE(sampling_strategy = 0.5)\n",
    "\n",
    "    x_train_sample, y_train_sample = sample.fit_resample(x_train, y_train)\n",
    "\n",
    "    train_model = XGBClassifier(**params)\n",
    "\n",
    "    model = train_model.fit(x_train_sample, y_train_sample)\n",
    "\n",
    "    return model"
   ]
  },
  {
   "cell_type": "code",
   "execution_count": null,
   "metadata": {},
   "outputs": [],
   "source": [
    "def plot_feature_importance(model, feature_names):\n",
    "    import matplotlib.pyplot as plt\n",
    "    import numpy as np\n",
    "\n",
    "    importances = model.feature_importances_\n",
    "\n",
    "    indices = np.argsort(importances)[::-1]\n",
    "\n",
    "    names = [feature_names[i] for i in indices]\n",
    "\n",
    "    plt.figure(figsize=(10, 6))\n",
    "    plt.title(\"Feature Importance\")\n",
    "    plt.barh(range(x_train.shape[1]), importances[indices])\n",
    "    plt.yticks(range(x_train.shape[1]), names)\n",
    "    plt.gca().invert_yaxis()\n",
    "    plt.show()"
   ]
  },
  {
   "cell_type": "code",
   "execution_count": null,
   "metadata": {},
   "outputs": [],
   "source": [
    "def evaluate_model(model, x_test, y_test):\n",
    "    # Get predictions\n",
    "    y_pred = model.predict(x_test)\n",
    "    y_pred_proba = model.predict_proba(x_test)[:, 1]\n",
    "    \n",
    "    # Confusion Matrix\n",
    "    conf_matrix = confusion_matrix(y_test, y_pred)\n",
    "    sns.heatmap(conf_matrix, annot=True, fmt='d')\n",
    "    plt.title('Confusion Matrix')\n",
    "    plt.xlabel('Predicted Label')\n",
    "    plt.ylabel('True Label')\n",
    "    plt.show()\n",
    "    \n",
    "    # ROC Curve and AUC Score\n",
    "    fpr, tpr, thresholds = roc_curve(y_test, y_pred_proba)\n",
    "    plt.plot(fpr, tpr, label=f'AUC = {auc(fpr, tpr):.2f}')\n",
    "    plt.plot([0, 1], [0, 1], 'r--')\n",
    "    plt.title('ROC Curve')\n",
    "    plt.xlabel('False Positive Rate')\n",
    "    plt.ylabel('True Positive Rate')\n",
    "    plt.legend()\n",
    "    plt.show()\n",
    "    \n",
    "    # Precision-Recall Curve\n",
    "    precision, recall, thresholds = precision_recall_curve(y_test, y_pred_proba)\n",
    "    plt.plot(recall, precision, marker='.')\n",
    "    plt.title('Precision-Recall Curve')\n",
    "    plt.xlabel('Recall')\n",
    "    plt.ylabel('Precision')\n",
    "    plt.show()\n",
    "    \n",
    "    # Classification Report\n",
    "    classif_report = classification_report(y_test, y_pred)\n",
    "    print('Classification Report:\\n', classif_report)\n",
    "    \n",
    "    # Accuracy Score\n",
    "    accuracy = accuracy_score(y_test, y_pred)\n",
    "    print(f'Accuracy: {accuracy:.2f}')\n",
    "    \n",
    "    # Log Loss\n",
    "    logloss = log_loss(y_test, y_pred_proba)\n",
    "    print(f'Log Loss: {logloss:.2f}')"
   ]
  }
 ],
 "metadata": {
  "language_info": {
   "name": "python"
  }
 },
 "nbformat": 4,
 "nbformat_minor": 2
}
