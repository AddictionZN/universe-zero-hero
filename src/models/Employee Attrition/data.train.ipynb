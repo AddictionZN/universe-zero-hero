{
 "cells": [
  {
   "cell_type": "code",
   "execution_count": null,
   "metadata": {},
   "outputs": [],
   "source": [
    "def build_pipeline():\n",
    "    from sklearn.pipeline import Pipeline\n",
    "    from sklearn.impute import SimpleImputer\n",
    "    from sklearn.preprocessing import QuantileTransformer\n",
    "    from sklearn.preprocessing import StandardScaler\n",
    "\n",
    "    pipeline = Pipeline([\n",
    "        ('std_scaler', StandardScaler())\n",
    "    ])\n",
    "    \n",
    "    return pipeline"
   ]
  },
  {
   "cell_type": "code",
   "execution_count": null,
   "metadata": {},
   "outputs": [],
   "source": [
    "def train_test_split(data, target, test_size):\n",
    "    import pandas as  pd\n",
    "    from sklearn.model_selection import StratifiedKFold\n",
    "    from sklearn.preprocessing import StandardScaler\n",
    "\n",
    "    print('No Attrition', round(data['Attrition'].value_counts()[0]/len(data) * 100,2), '% of the dataset')\n",
    "    print('Attrition', round(data['Attrition'].value_counts()[1]/len(data) * 100,2), '% of the dataset')\n",
    "    \n",
    "    feature_set = data.drop(target, axis=1)\n",
    "    target_set = data[target]\n",
    "    \n",
    "    scaler = StandardScaler()\n",
    "    \n",
    "    sss = StratifiedKFold(n_splits=5, random_state=None, shuffle=False)\n",
    "\n",
    "    for train_index, test_index in sss.split(feature_set, target_set):\n",
    "        print(\"Train:\", train_index, \"Test:\", test_index)\n",
    "        x_train, x_test = feature_set.iloc[train_index], feature_set.iloc[test_index]\n",
    "        y_train, y_test = target_set.iloc[train_index], target_set.iloc[test_index]\n",
    "\n",
    "    x_train_prepared = scaler.fit_transform(x_train)\n",
    "    x_test_prepared = scaler.transform(x_test)\n",
    "\n",
    "    x_train_prepared = pd.DataFrame(x_train_prepared, columns=feature_set.columns)\n",
    "    x_test_prepared = pd.DataFrame(x_test_prepared, columns=feature_set.columns)\n",
    "\n",
    "    return x_train_prepared, x_test_prepared, y_train, y_test\n",
    "\n",
    "    # return x_train, x_test, y_train, y_test"
   ]
  }
 ],
 "metadata": {
  "language_info": {
   "name": "python"
  }
 },
 "nbformat": 4,
 "nbformat_minor": 2
}
