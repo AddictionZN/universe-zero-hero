{
 "cells": [
  {
   "cell_type": "markdown",
   "metadata": {},
   "source": [
    "# Spotify Tracks Test Notebook"
   ]
  },
  {
   "cell_type": "code",
   "execution_count": null,
   "metadata": {},
   "outputs": [],
   "source": [
    "def get_random_track_id(data):\n",
    "    return data['track_id'].sample().iloc[0]"
   ]
  },
  {
   "cell_type": "code",
   "execution_count": null,
   "metadata": {},
   "outputs": [],
   "source": [
    "def get_predictions(model, features):\n",
    "    return model.predict(features).flatten()"
   ]
  },
  {
   "cell_type": "code",
   "execution_count": null,
   "metadata": {},
   "outputs": [],
   "source": [
    "def recommend_system(track_id, data, columns, track_lookup, model, top_n=5):\n",
    "    if track_id not in data['track_id'].values:\n",
    "        return \"Track ID not found in data.\"\n",
    "    \n",
    "    data.fillna(0, inplace=True)\n",
    "\n",
    "    features = data[columns].astype('float32').values\n",
    "    \n",
    "    track_idx = np.where(data['track_id'] == track_id)[0][0]\n",
    "    track_features = features[track_idx].reshape(1, -1)\n",
    "\n",
    "    if track_features.shape[1] != model.layers[0].input_shape[1]:\n",
    "        return f\"Feature mismatch: Model expects {model.layers[0].input_shape[1]} features, but track_features has {track_features.shape[1]}.\"\n",
    "\n",
    "    model_predictions = get_predictions(model, features)\n",
    "    track_prediction = get_predictions(model, track_features)\n",
    "\n",
    "    similarity_scores = cosine_similarity(track_prediction.reshape(1, -1), model_predictions.reshape(-1, 1))\n",
    "    similar_indices = np.argsort(similarity_scores[0])[::-1][1:top_n+1]\n",
    "\n",
    "    recommended_tracks = data.iloc[similar_indices]\n",
    "    recommended_tracks = recommended_tracks.drop_duplicates()\n",
    "    recommended_tracks['model_prediction'] = model_predictions[similar_indices]\n",
    "\n",
    "    recommended_tracks = pd.merge(recommended_tracks, track_lookup, on='track_id', how='left')\n",
    "    track_info = recommended_tracks[['track_name_y', 'album_name_y', 'artists_y', 'model_prediction']]\n",
    "    top_track_info = track_info.head(min(5, len(track_info)))\n",
    "\n",
    "    return top_track_info"
   ]
  }
 ],
 "metadata": {
  "language_info": {
   "name": "python"
  }
 },
 "nbformat": 4,
 "nbformat_minor": 2
}
