{
 "cells": [
  {
   "cell_type": "markdown",
   "metadata": {},
   "source": [
    "# Spotify Tracks Test Notebook"
   ]
  },
  {
   "cell_type": "code",
   "execution_count": null,
   "metadata": {},
   "outputs": [],
   "source": [
    "def recommend_system(track_id, data, track_lookup, top_n=5):\n",
    "    features = data.drop(columns=['track_id']).values\n",
    "    \n",
    "    track_idx = np.where(data['track_id'] == track_id)[0][0]\n",
    "    \n",
    "    track_features = features[track_idx].reshape(1, -1)\n",
    "\n",
    "    similarity_scores = cosine_similarity(track_features, features)\n",
    "    \n",
    "    similar_indices = np.argsort(similarity_scores[0])[::-1][1:top_n+1]\n",
    "    \n",
    "    recommended_tracks = data.iloc[similar_indices]\n",
    "    \n",
    "    recommended_tracks_with_names = pd.merge(recommended_tracks, track_lookup, on='track_id', how='left')\n",
    "    \n",
    "    return recommended_tracks_with_names"
   ]
  },
  {
   "cell_type": "code",
   "execution_count": null,
   "metadata": {},
   "outputs": [],
   "source": [
    "def get_random_track_id(data):\n",
    "    return random.choice(data['track_id'].tolist())"
   ]
  }
 ],
 "metadata": {
  "language_info": {
   "name": "python"
  }
 },
 "nbformat": 4,
 "nbformat_minor": 2
}
