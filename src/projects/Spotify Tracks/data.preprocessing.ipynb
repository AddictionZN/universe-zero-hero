{
 "cells": [
  {
   "cell_type": "markdown",
   "metadata": {},
   "source": [
    "# Spotify Tracks Data Preprocessing Notebook"
   ]
  },
  {
   "cell_type": "markdown",
   "metadata": {},
   "source": [
    "## Convert the Dataset -> Pandas"
   ]
  },
  {
   "cell_type": "code",
   "execution_count": null,
   "metadata": {},
   "outputs": [],
   "source": [
    "dataset_copy = dataset.copy()"
   ]
  },
  {
   "cell_type": "code",
   "execution_count": null,
   "metadata": {},
   "outputs": [],
   "source": [
    "df_spotify = pd.DataFrame(dataset_copy['train'])"
   ]
  },
  {
   "cell_type": "code",
   "execution_count": null,
   "metadata": {},
   "outputs": [],
   "source": [
    "def create_track_lookup(data):\n",
    "    def value_encode(data_field):\n",
    "        return data_field.apply(lambda field: float(sum(bytearray(str(field).encode('utf-8')))))\n",
    "\n",
    "    track_lookup = data[['track_id', 'track_name']].drop_duplicates()\n",
    "    track_lookup['track_id'] = value_encode(track_lookup['track_id'])\n",
    "    \n",
    "    return track_lookup"
   ]
  },
  {
   "cell_type": "markdown",
   "metadata": {},
   "source": [
    "## Data Preprocessing"
   ]
  },
  {
   "cell_type": "code",
   "execution_count": null,
   "metadata": {},
   "outputs": [],
   "source": [
    "def data_preprocessing(data):\n",
    "    def value_encode(data_field):\n",
    "        return data_field.apply(lambda field: float(sum(bytearray(str(field).encode('utf-8')))))\n",
    "    \n",
    "    data_copy = data.dropna().copy()\n",
    "    \n",
    "    data_copy.drop('Unnamed: 0', inplace=True, axis=1)\n",
    "\n",
    "    data_copy['track_id'] = value_encode(data_copy['track_id'])\n",
    "\n",
    "    return data_copy"
   ]
  },
  {
   "cell_type": "code",
   "execution_count": null,
   "metadata": {},
   "outputs": [],
   "source": [
    "def build_pipeline():\n",
    "    pipeline = Pipeline([\n",
    "        ('imputer', SimpleImputer(strategy=\"median\")),\n",
    "        ('quantile_transformer', QuantileTransformer(output_distribution='normal')),\n",
    "        ('std_scaler', StandardScaler()),\n",
    "    ])\n",
    "    \n",
    "    return pipeline"
   ]
  },
  {
   "cell_type": "code",
   "execution_count": null,
   "metadata": {},
   "outputs": [],
   "source": [
    "def train_test_split_processing(data: pd.DataFrame, target: str, test_size: float, shuffle: bool=True):\n",
    "    categorical_columns = ['artists', 'album_name', 'track_name', 'track_genre']\n",
    "    \n",
    "    for col in categorical_columns:\n",
    "        labelencoder = LabelEncoder()\n",
    "        data[col] = labelencoder.fit_transform(data[col])\n",
    "    \n",
    "    feature_set = data.drop(target, axis=1)\n",
    "    target_set = data[target]\n",
    "\n",
    "    numerical_columns = list(set(feature_set.columns) - set(categorical_columns))\n",
    "    \n",
    "    full_pipeline = ColumnTransformer([\n",
    "        (\"num\", build_pipeline(), numerical_columns),\n",
    "    ])\n",
    "    \n",
    "    feature_set_prepared = full_pipeline.fit_transform(feature_set)\n",
    "    feature_set_prepared = pd.DataFrame(feature_set_prepared, columns=numerical_columns)\n",
    "    \n",
    "    x_train, x_test, y_train, y_test = train_test_split(feature_set_prepared, target_set, test_size=test_size, shuffle=shuffle)\n",
    "    \n",
    "    return x_train, x_test, y_train, y_test"
   ]
  },
  {
   "cell_type": "code",
   "execution_count": null,
   "metadata": {},
   "outputs": [],
   "source": [
    "track_lookup = create_track_lookup(df_spotify)"
   ]
  },
  {
   "cell_type": "code",
   "execution_count": null,
   "metadata": {},
   "outputs": [],
   "source": [
    "data_train = data_preprocessing(df_spotify)"
   ]
  }
 ],
 "metadata": {
  "kernelspec": {
   "display_name": "base",
   "language": "python",
   "name": "python3"
  },
  "language_info": {
   "codemirror_mode": {
    "name": "ipython",
    "version": 3
   },
   "file_extension": ".py",
   "mimetype": "text/x-python",
   "name": "python",
   "nbconvert_exporter": "python",
   "pygments_lexer": "ipython3",
   "version": "3.10.12"
  }
 },
 "nbformat": 4,
 "nbformat_minor": 2
}
