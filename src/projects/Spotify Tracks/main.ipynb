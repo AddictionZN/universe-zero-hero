{
 "cells": [
  {
   "cell_type": "markdown",
   "metadata": {},
   "source": [
    "# Spotify Tracks Recommendation System"
   ]
  },
  {
   "cell_type": "code",
   "execution_count": null,
   "metadata": {},
   "outputs": [],
   "source": [
    "%run ../../common/model.requirements.ipynb"
   ]
  },
  {
   "cell_type": "code",
   "execution_count": null,
   "metadata": {},
   "outputs": [],
   "source": [
    "%run ../../common/data.requirements.ipynb"
   ]
  },
  {
   "cell_type": "code",
   "execution_count": null,
   "metadata": {},
   "outputs": [],
   "source": [
    "%run ../../../data/external/spotify-tracks-dataset.ipynb"
   ]
  },
  {
   "cell_type": "code",
   "execution_count": null,
   "metadata": {},
   "outputs": [],
   "source": [
    "%run data.preprocessing.ipynb"
   ]
  },
  {
   "cell_type": "code",
   "execution_count": null,
   "metadata": {},
   "outputs": [],
   "source": [
    "x_train, x_test, y_train, y_test = train_test_split_processing(data=data_train, target='track_id', test_size=0.20)"
   ]
  },
  {
   "cell_type": "code",
   "execution_count": null,
   "metadata": {},
   "outputs": [],
   "source": [
    "%run model.build.ipynb"
   ]
  },
  {
   "cell_type": "code",
   "execution_count": null,
   "metadata": {},
   "outputs": [],
   "source": [
    "model = build_model(x_train, y_train)"
   ]
  },
  {
   "cell_type": "markdown",
   "metadata": {},
   "source": [
    "## Test the Recommendation System"
   ]
  },
  {
   "cell_type": "code",
   "execution_count": null,
   "metadata": {},
   "outputs": [],
   "source": [
    "%run model.test.ipynb"
   ]
  },
  {
   "cell_type": "code",
   "execution_count": null,
   "metadata": {},
   "outputs": [],
   "source": [
    "model.evaluate(x_test, y_test)"
   ]
  },
  {
   "cell_type": "code",
   "execution_count": null,
   "metadata": {},
   "outputs": [],
   "source": [
    "column_order = ['instrumentalness'\n",
    "                , 'track_name'\n",
    "                , 'time_signature'\n",
    "                , 'danceability'\n",
    "                , 'album_name'\n",
    "                , 'tempo'\n",
    "                , 'speechiness'\n",
    "                , 'artists'\n",
    "                , 'duration_ms'\n",
    "                , 'popularity'\n",
    "                , 'key'\n",
    "                , 'mode'\n",
    "                , 'acousticness'\n",
    "                , 'loudness'\n",
    "                , 'track_genre'\n",
    "                , 'valence'\n",
    "                , 'explicit'\n",
    "                , 'liveness'\n",
    "                , 'energy'\n",
    "            ]"
   ]
  },
  {
   "cell_type": "code",
   "execution_count": 14,
   "metadata": {},
   "outputs": [
    {
     "name": "stdout",
     "output_type": "stream",
     "text": [
      "Random Track ID: 1820.0\n",
      "3563/3563 [==============================] - 1s 302us/step\n",
      "1/1 [==============================] - 0s 9ms/step\n"
     ]
    },
    {
     "data": {
      "text/html": [
       "<div>\n",
       "<style scoped>\n",
       "    .dataframe tbody tr th:only-of-type {\n",
       "        vertical-align: middle;\n",
       "    }\n",
       "\n",
       "    .dataframe tbody tr th {\n",
       "        vertical-align: top;\n",
       "    }\n",
       "\n",
       "    .dataframe thead th {\n",
       "        text-align: right;\n",
       "    }\n",
       "</style>\n",
       "<table border=\"1\" class=\"dataframe\">\n",
       "  <thead>\n",
       "    <tr style=\"text-align: right;\">\n",
       "      <th></th>\n",
       "      <th>track_name_y</th>\n",
       "      <th>album_name_y</th>\n",
       "      <th>artists_y</th>\n",
       "      <th>model_prediction</th>\n",
       "    </tr>\n",
       "  </thead>\n",
       "  <tbody>\n",
       "    <tr>\n",
       "      <th>0</th>\n",
       "      <td>Habang Buhay</td>\n",
       "      <td>Episode</td>\n",
       "      <td>Zack Tabudlo</td>\n",
       "      <td>7381533.5</td>\n",
       "    </tr>\n",
       "    <tr>\n",
       "      <th>1</th>\n",
       "      <td>Higher</td>\n",
       "      <td>Blsd (Deluxe)</td>\n",
       "      <td>Jor'dan Armstrong</td>\n",
       "      <td>7381533.5</td>\n",
       "    </tr>\n",
       "    <tr>\n",
       "      <th>2</th>\n",
       "      <td>Awake and Alive</td>\n",
       "      <td>Awake</td>\n",
       "      <td>Skillet</td>\n",
       "      <td>7381533.5</td>\n",
       "    </tr>\n",
       "    <tr>\n",
       "      <th>3</th>\n",
       "      <td>Vámonos De Viaje</td>\n",
       "      <td>Alternativo diferente latino</td>\n",
       "      <td>Bandalos Chinos</td>\n",
       "      <td>7381533.5</td>\n",
       "    </tr>\n",
       "    <tr>\n",
       "      <th>4</th>\n",
       "      <td>Rockstar</td>\n",
       "      <td>All the Right Reasons (Walmart Exclusive Edition)</td>\n",
       "      <td>Nickelback</td>\n",
       "      <td>7381533.5</td>\n",
       "    </tr>\n",
       "  </tbody>\n",
       "</table>\n",
       "</div>"
      ],
      "text/plain": [
       "       track_name_y                                       album_name_y  \\\n",
       "0      Habang Buhay                                            Episode   \n",
       "1            Higher                                      Blsd (Deluxe)   \n",
       "2   Awake and Alive                                              Awake   \n",
       "3  Vámonos De Viaje                       Alternativo diferente latino   \n",
       "4          Rockstar  All the Right Reasons (Walmart Exclusive Edition)   \n",
       "\n",
       "           artists_y  model_prediction  \n",
       "0       Zack Tabudlo         7381533.5  \n",
       "1  Jor'dan Armstrong         7381533.5  \n",
       "2            Skillet         7381533.5  \n",
       "3    Bandalos Chinos         7381533.5  \n",
       "4         Nickelback         7381533.5  "
      ]
     },
     "execution_count": 14,
     "metadata": {},
     "output_type": "execute_result"
    }
   ],
   "source": [
    "random_track_id = get_random_track_id(data_train)\n",
    "print(f\"Random Track ID: {random_track_id}\")\n",
    "\n",
    "recommended_tracks = recommend_system(random_track_id, data_train, column_order, track_lookup, model, top_n=5)\n",
    "recommended_tracks"
   ]
  },
  {
   "cell_type": "code",
   "execution_count": null,
   "metadata": {},
   "outputs": [],
   "source": []
  }
 ],
 "metadata": {
  "kernelspec": {
   "display_name": "base",
   "language": "python",
   "name": "python3"
  },
  "language_info": {
   "codemirror_mode": {
    "name": "ipython",
    "version": 3
   },
   "file_extension": ".py",
   "mimetype": "text/x-python",
   "name": "python",
   "nbconvert_exporter": "python",
   "pygments_lexer": "ipython3",
   "version": "3.10.12"
  }
 },
 "nbformat": 4,
 "nbformat_minor": 2
}
