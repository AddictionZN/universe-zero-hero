{
 "cells": [
  {
   "cell_type": "markdown",
   "metadata": {},
   "source": [
    "# Fraud Detection Data Preprocessing Notebook"
   ]
  },
  {
   "cell_type": "code",
   "execution_count": null,
   "metadata": {},
   "outputs": [],
   "source": [
    "dataset_copy = dataset.copy()"
   ]
  },
  {
   "cell_type": "code",
   "execution_count": null,
   "metadata": {},
   "outputs": [],
   "source": [
    "df_fraud = pd.DataFrame(dataset_copy['train'])"
   ]
  },
  {
   "cell_type": "code",
   "execution_count": null,
   "metadata": {},
   "outputs": [],
   "source": [
    "def data_preprocessing(data):\n",
    "    def value_encode(data_field):\n",
    "        return data_field.apply(lambda field: float(sum(bytearray(str(field).encode('utf-8')))))\n",
    "    \n",
    "    data_copy = data.copy()\n",
    "\n",
    "    data_copy.drop('isFlaggedFraud', inplace=True, axis=1)\n",
    "    data_copy.drop('step', inplace=True, axis=1)\n",
    "\n",
    "    data_copy['type'] = value_encode(data_copy['type'])\n",
    "    data_copy['nameOrig'] = value_encode(data_copy['nameOrig'])\n",
    "    data_copy['nameDest'] = value_encode(data_copy['nameDest'])\n",
    "\n",
    "    return data_copy"
   ]
  },
  {
   "cell_type": "code",
   "execution_count": null,
   "metadata": {},
   "outputs": [],
   "source": [
    "def build_pipeline():\n",
    "    pipeline = Pipeline([\n",
    "        ('imputer', SimpleImputer(strategy=\"median\")),\n",
    "        ('quantile_transformer', QuantileTransformer(output_distribution='normal')),\n",
    "        ('robust_scaler', RobustScaler()),\n",
    "    ])\n",
    "    \n",
    "    return pipeline"
   ]
  },
  {
   "cell_type": "code",
   "execution_count": null,
   "metadata": {},
   "outputs": [],
   "source": [
    "def train_test_split_processing(data: pd.DataFrame, target: str, test_size: float, shuffle: bool=True):\n",
    "    \n",
    "    feature_set = data.drop(target, axis=1)\n",
    "    target_set = data[target]\n",
    "    \n",
    "    numerical_columns = feature_set.columns.tolist()\n",
    "\n",
    "    nm = NearMiss(sampling_strategy=0.1, n_jobs=-1)\n",
    "\n",
    "    x_nm, y_nm = nm.fit_resample(feature_set, target_set)\n",
    "\n",
    "    x_train, x_test, y_train, y_test = train_test_split(x_nm, y_nm, test_size=test_size, shuffle=shuffle, stratify=y_nm)\n",
    "\n",
    "    full_pipeline = ColumnTransformer([\n",
    "        (\"num\", build_pipeline(), numerical_columns),\n",
    "    ])\n",
    "\n",
    "    x_train_prepared = full_pipeline.fit_transform(x_train)\n",
    "    x_test_prepared = full_pipeline.transform(x_test)\n",
    "\n",
    "    x_train_prepared = pd.DataFrame(x_train_prepared, columns=numerical_columns)\n",
    "    x_test_prepared = pd.DataFrame(x_test_prepared, columns=numerical_columns)\n",
    "\n",
    "\n",
    "    return x_train_prepared, x_test_prepared, y_train, y_test"
   ]
  }
 ],
 "metadata": {
  "language_info": {
   "name": "python"
  }
 },
 "nbformat": 4,
 "nbformat_minor": 2
}
