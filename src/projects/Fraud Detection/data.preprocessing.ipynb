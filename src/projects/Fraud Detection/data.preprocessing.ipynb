{
 "cells": [
  {
   "cell_type": "markdown",
   "metadata": {},
   "source": [
    "# Fraud Detection Data Preprocessing Notebook"
   ]
  },
  {
   "cell_type": "code",
   "execution_count": null,
   "metadata": {},
   "outputs": [],
   "source": [
    "dataset_copy = dataset.copy()"
   ]
  },
  {
   "cell_type": "code",
   "execution_count": null,
   "metadata": {},
   "outputs": [],
   "source": [
    "df_fraud = pd.DataFrame(dataset_copy['train'])"
   ]
  },
  {
   "cell_type": "code",
   "execution_count": null,
   "metadata": {},
   "outputs": [],
   "source": [
    "def data_preprocessing(data):\n",
    "    def value_encode(data_field):\n",
    "        return data_field.apply(lambda field: float(sum(bytearray(str(field).encode('utf-8')))))\n",
    "    \n",
    "    data_copy = data.copy()\n",
    "    data_copy = data_copy.drop_duplicates()\n",
    "    \n",
    "    print(\"Duplicated values dropped succesfully\")\n",
    "    print(\"*\" * 100)\n",
    "\n",
    "    data_copy.drop('isFlaggedFraud', inplace=True, axis=1)\n",
    "    data_copy.drop('step', inplace=True, axis=1)\n",
    "\n",
    "    data_copy['type'] = value_encode(data_copy['type'])\n",
    "    data_copy['nameOrig'] = value_encode(data_copy['nameOrig'])\n",
    "    data_copy['nameDest'] = value_encode(data_copy['nameDest'])\n",
    "\n",
    "    return data_copy"
   ]
  },
  {
   "cell_type": "code",
   "execution_count": null,
   "metadata": {},
   "outputs": [],
   "source": [
    "def remove_outliers(data, n, features):\n",
    "    import numpy as np\n",
    "    from collections import Counter\n",
    "\n",
    "    outlier_list = []\n",
    "    \n",
    "    for column in features:\n",
    "        Q1 = np.percentile(data[column], 20)\n",
    "        Q3 = np.percentile(data[column], 80)\n",
    "        IQR = Q3 - Q1\n",
    "\n",
    "        outlier_step = 1.5 * IQR\n",
    "        outlier_list_column = data[(data[column] < Q1 - outlier_step) | (data[column] > Q3 + outlier_step )].index\n",
    "        outlier_list.extend(outlier_list_column)\n",
    "        \n",
    "    \n",
    "    outlier_list = Counter(outlier_list)\n",
    "    multiple_outliers = list( k for k, v in outlier_list.items() if v > n )\n",
    "    \n",
    "    out1 = data[data[column] < Q1 - outlier_step]\n",
    "    out2 = data[data[column] > Q3 + outlier_step]\n",
    "    \n",
    "    print('Total number of deleted outliers is:', out1.shape[0]+out2.shape[0])\n",
    "    \n",
    "    return multiple_outliers"
   ]
  }
 ],
 "metadata": {
  "language_info": {
   "name": "python"
  }
 },
 "nbformat": 4,
 "nbformat_minor": 2
}
