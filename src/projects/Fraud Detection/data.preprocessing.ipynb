{
 "cells": [
  {
   "cell_type": "markdown",
   "metadata": {},
   "source": [
    "# Fraud Detection Data Preprocessing Notebook"
   ]
  },
  {
   "cell_type": "code",
   "execution_count": null,
   "metadata": {},
   "outputs": [],
   "source": [
    "dataset_copy = dataset.copy()"
   ]
  },
  {
   "cell_type": "code",
   "execution_count": null,
   "metadata": {},
   "outputs": [],
   "source": [
    "df_fraud = pd.DataFrame(dataset_copy['train'])"
   ]
  },
  {
   "cell_type": "code",
   "execution_count": null,
   "metadata": {},
   "outputs": [],
   "source": [
    "def data_preprocessing(data):\n",
    "    def value_encode(data_field):\n",
    "        return data_field.apply(lambda field: float(sum(bytearray(str(field).encode('utf-8')))))\n",
    "    \n",
    "    data_copy = data.copy()\n",
    "\n",
    "    data_copy.drop('isFlaggedFraud', inplace=True, axis=1)\n",
    "    data_copy.drop('step', inplace=True, axis=1)\n",
    "\n",
    "    data_copy['type'] = value_encode(data_copy['type'])\n",
    "    data_copy['nameOrig'] = value_encode(data_copy['nameOrig'])\n",
    "    data_copy['nameDest'] = value_encode(data_copy['nameDest'])\n",
    "\n",
    "    return data_copy"
   ]
  }
 ],
 "metadata": {
  "language_info": {
   "name": "python"
  }
 },
 "nbformat": 4,
 "nbformat_minor": 2
}
