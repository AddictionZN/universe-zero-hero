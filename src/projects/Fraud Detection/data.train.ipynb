{
 "cells": [
  {
   "cell_type": "code",
   "execution_count": null,
   "metadata": {},
   "outputs": [],
   "source": [
    "def build_pipeline():\n",
    "    pipeline = Pipeline([\n",
    "        ('imputer', SimpleImputer(strategy=\"median\")),\n",
    "        ('quantile_transformer', QuantileTransformer(output_distribution='normal')),\n",
    "        ('robust_scaler', RobustScaler()),\n",
    "    ])\n",
    "    \n",
    "    return pipeline"
   ]
  },
  {
   "cell_type": "code",
   "execution_count": null,
   "metadata": {},
   "outputs": [],
   "source": [
    "def train_test_split_processing(data, target, test_size):\n",
    "    \n",
    "    feature_set = data.drop(target, axis=1)\n",
    "    target_set = data[target]\n",
    "    \n",
    "    numerical_columns = feature_set.columns.tolist()\n",
    "\n",
    "    sss = StratifiedKFold(n_splits=5, random_state=None, shuffle=False)\n",
    "\n",
    "    for train_index, test_index in sss.split(feature_set, target_set):\n",
    "        print(\"Train:\", train_index, \"Test:\", test_index)\n",
    "        x_train, x_test = feature_set.iloc[train_index], feature_set.iloc[test_index]\n",
    "        y_train, y_test = target_set.iloc[train_index], target_set.iloc[test_index]\n",
    "\n",
    "    full_pipeline = ColumnTransformer([\n",
    "        (\"num\", build_pipeline(), feature_set.columns)\n",
    "    ])\n",
    "\n",
    "    x_train_prepared = full_pipeline.fit_transform(x_train)\n",
    "    x_test_prepared = full_pipeline.transform(x_test)\n",
    "\n",
    "    x_train_prepared = pd.DataFrame(x_train_prepared, columns=numerical_columns)\n",
    "    x_test_prepared = pd.DataFrame(x_test_prepared, columns=numerical_columns)\n",
    "\n",
    "\n",
    "    return x_train_prepared, x_test_prepared, y_train, y_test"
   ]
  }
 ],
 "metadata": {
  "language_info": {
   "name": "python"
  }
 },
 "nbformat": 4,
 "nbformat_minor": 2
}
