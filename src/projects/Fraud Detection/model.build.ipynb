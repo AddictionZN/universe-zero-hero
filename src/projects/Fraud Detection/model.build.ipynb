{
 "cells": [
  {
   "cell_type": "markdown",
   "metadata": {},
   "source": [
    "# Fraud Detection Model Build Notebook"
   ]
  },
  {
   "cell_type": "code",
   "execution_count": null,
   "metadata": {},
   "outputs": [],
   "source": [
    "def train_model(x_train, y_train):\n",
    "                \n",
    "    sss = StratifiedKFold(n_splits=5, random_state=None, shuffle=False)\n",
    "\n",
    "    sample = SMOTE(sampling_strategy='minority')\n",
    "    train_model = LogisticRegression()\n",
    "\n",
    "    for train, test in sss.split(x_train, y_train):\n",
    "        pipeline = make_pipeline(sample, train_model)\n",
    "        model = pipeline.fit(x_train.iloc[train], y_train.iloc[train])\n",
    "\n",
    "\n",
    "    return model"
   ]
  }
 ],
 "metadata": {
  "language_info": {
   "name": "python"
  }
 },
 "nbformat": 4,
 "nbformat_minor": 2
}
