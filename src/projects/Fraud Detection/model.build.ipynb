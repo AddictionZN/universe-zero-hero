{
 "cells": [
  {
   "cell_type": "markdown",
   "metadata": {},
   "source": [
    "# Fraud Detection Model Build Notebook"
   ]
  },
  {
   "cell_type": "code",
   "execution_count": null,
   "metadata": {},
   "outputs": [],
   "source": [
    "def train_model(classifier, param_dist, x_train, y_train, encoded_features, search_type='random'):\n",
    "    # Apply SMOTENC to deal with imbalanced classes\n",
    "    smote_nc = SMOTENC(categorical_features=encoded_features, sampling_strategy='minority', random_state=42)\n",
    "        \n",
    "    # Create pipeline with SMOTENC and the classifier\n",
    "    pipeline = make_pipeline(smote_nc, classifier)\n",
    "    \n",
    "    # Define cross-validation strategy\n",
    "    cv = StratifiedKFold(n_splits=5, shuffle=True, random_state=42)\n",
    "    \n",
    "    # Perform hyperparameter search\n",
    "    if search_type == 'random':\n",
    "        search_cv = RandomizedSearchCV(estimator=pipeline, \n",
    "                                      param_distributions=param_dist,\n",
    "                                      n_iter=20,\n",
    "                                      scoring=\"roc_auc\",\n",
    "                                      n_jobs=-1,\n",
    "                                      cv=cv)\n",
    "    elif search_type == 'grid':\n",
    "        search_cv = GridSearchCV(estimator=pipeline,\n",
    "                                 param_grid=param_dist,\n",
    "                                 scoring=\"roc_auc\",\n",
    "                                 n_jobs=-1,\n",
    "                                 cv=cv)\n",
    "    else:\n",
    "        raise ValueError('search_type must be either \"random\" or \"grid\"')\n",
    "        \n",
    "    # Fit the model and return the trained classifier\n",
    "    search_cv.fit(x_train, y_train)\n",
    "\n",
    "    return search_cv"
   ]
  }
 ],
 "metadata": {
  "language_info": {
   "name": "python"
  }
 },
 "nbformat": 4,
 "nbformat_minor": 2
}
