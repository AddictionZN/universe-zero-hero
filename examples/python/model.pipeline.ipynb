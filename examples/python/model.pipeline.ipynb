{
 "cells": [
  {
   "cell_type": "markdown",
   "metadata": {},
   "source": [
    "# Model Pipeline Notebook"
   ]
  },
  {
   "cell_type": "code",
   "execution_count": null,
   "metadata": {},
   "outputs": [],
   "source": [
    "# %run ./model.requirements.ipynb"
   ]
  },
  {
   "cell_type": "code",
   "execution_count": null,
   "metadata": {},
   "outputs": [],
   "source": [
    "def build_pipeline():\n",
    "    pipeline = Pipeline([\n",
    "        ('imputer', SimpleImputer(strategy=\"median\")),\n",
    "        ('quantile_transformer', QuantileTransformer(output_distribution='normal')),\n",
    "        ('std_scaler', StandardScaler()),\n",
    "    ])\n",
    "    \n",
    "    return pipeline"
   ]
  },
  {
   "cell_type": "markdown",
   "metadata": {},
   "source": [
    "### No One Hot Encoding"
   ]
  },
  {
   "cell_type": "code",
   "execution_count": null,
   "metadata": {},
   "outputs": [],
   "source": [
    "def train_test_split_processing(data: pd.DataFrame, target: str, test_size: float, shuffle: bool=True):\n",
    "    \n",
    "    feature_set = data.drop(target, axis=1)\n",
    "    target_set = data[target]\n",
    "\n",
    "    numerical_columns = feature_set.columns.tolist()\n",
    "\n",
    "    x_train, x_test, y_train, y_test = train_test_split(feature_set, target_set, test_size=test_size, shuffle=shuffle)\n",
    "    \n",
    "    full_pipeline = ColumnTransformer([\n",
    "        (\"num\", build_pipeline(), numerical_columns),\n",
    "    ])\n",
    "    \n",
    "    x_train_prepared = full_pipeline.fit_transform(x_train)\n",
    "    x_test_prepared = full_pipeline.transform(x_test)\n",
    "\n",
    "    x_train_prepared = pd.DataFrame(x_train_prepared, columns=numerical_columns)\n",
    "    x_test_prepared = pd.DataFrame(x_test_prepared, columns=numerical_columns)\n",
    "\n",
    "    return x_train_prepared, x_test_prepared, y_train, y_test"
   ]
  },
  {
   "cell_type": "markdown",
   "metadata": {},
   "source": [
    "### With One Hot Encoding"
   ]
  },
  {
   "cell_type": "code",
   "execution_count": null,
   "metadata": {},
   "outputs": [],
   "source": [
    "def train_test_split_processing(data: pd.DataFrame, target: str, test_size: float, shuffle: bool=True):\n",
    "    categorical_columns = ['']  # specify which columns are categorical\n",
    "    \n",
    "    for col in categorical_columns:\n",
    "        labelencoder = LabelEncoder()\n",
    "        data[col] = labelencoder.fit_transform(data[col])\n",
    "    \n",
    "    feature_set = data.drop(target, axis=1)\n",
    "    target_set = data[target]\n",
    "\n",
    "    numerical_columns = list(set(feature_set.columns) - set(categorical_columns))\n",
    "    \n",
    "    full_pipeline = ColumnTransformer([\n",
    "        (\"num\", build_pipeline(), numerical_columns),\n",
    "    ])\n",
    "    \n",
    "    feature_set_prepared = full_pipeline.fit_transform(feature_set)\n",
    "    feature_set_prepared = pd.DataFrame(feature_set_prepared, columns=numerical_columns)\n",
    "    \n",
    "    x_train, x_test, y_train, y_test = train_test_split(feature_set_prepared, target_set, test_size=test_size, shuffle=shuffle)\n",
    "    \n",
    "    return x_train, x_test, y_train, y_test"
   ]
  }
 ],
 "metadata": {
  "kernelspec": {
   "display_name": "base",
   "language": "python",
   "name": "python3"
  },
  "language_info": {
   "codemirror_mode": {
    "name": "ipython",
    "version": 3
   },
   "file_extension": ".py",
   "mimetype": "text/x-python",
   "name": "python",
   "nbconvert_exporter": "python",
   "pygments_lexer": "ipython3",
   "version": "3.10.12"
  }
 },
 "nbformat": 4,
 "nbformat_minor": 2
}
