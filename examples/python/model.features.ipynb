{
 "cells": [
  {
   "cell_type": "markdown",
   "metadata": {},
   "source": [
    "# Model Build Feature Functions"
   ]
  },
  {
   "cell_type": "code",
   "execution_count": null,
   "metadata": {},
   "outputs": [],
   "source": [
    "# %run ./requirements.ipynb"
   ]
  },
  {
   "cell_type": "code",
   "execution_count": 1,
   "metadata": {},
   "outputs": [],
   "source": [
    "def data_preprocessing(data):\n",
    "    \n",
    "    def encode_binascii(field):\n",
    "        return binascii.hexlify(field.encode('utf-8'))\n",
    "    \n",
    "    def decode_binascii(field):\n",
    "        return binascii.unhexlify(field).decode('utf-8')\n",
    "    \n",
    "    def encode_p_value(hex_string):\n",
    "        int_value = int(hex_string, 16)\n",
    "        return stats.uniform.cdf(int_value, 0, 1e18)\n",
    "    \n",
    "    def decode_p_value(p_value):\n",
    "        return int(stats.uniform.ppf(p_value, 0, 1e18))\n",
    "    \n",
    "    \n",
    "    data_copy = data.dropna().copy()\n",
    "    data_copy = data_copy.astype(str)\n",
    "\n",
    "    for col in data_copy.columns:\n",
    "        print(f\"Processing column: {col}\")\n",
    "        data_copy[col] = data_copy[col].apply(lambda x: encode_binascii(str(x)))\n",
    "        data_copy[col] = data_copy[col].apply(lambda x: encode_p_value(x.decode('utf-8')))\n",
    "\n",
    "    data_copy = data_copy.astype(float)\n",
    "    \n",
    "    return data_copy"
   ]
  },
  {
   "cell_type": "code",
   "execution_count": null,
   "metadata": {},
   "outputs": [],
   "source": [
    "def data_preprocessing(data):\n",
    "    \n",
    "    def value_encode(data_field):\n",
    "        return data_field.apply(lambda field: float(sum(bytearray(str(field).encode('utf-8')))))\n",
    "\n",
    "    def value_decode(data_field):\n",
    "        return bytearray((int(data_field).to_bytes((int(data_field).bit_length() + 7) // 8, byteorder='big'))[::-1]).decode('utf-8')\n",
    "    \n",
    "    data_copy = data.dropna().copy()\n",
    "    data_copy = data_copy.astype(str)\n",
    "\n",
    "    data_copy.drop('', inplace=True, axis=1)\n",
    "    \n",
    "    for col in data_copy.columns:\n",
    "        print(f\"Processing column: {col}\")\n",
    "        data_copy[col] = value_encode(col)\n",
    "\n",
    "    data_copy = data_copy.astype(float)\n",
    "    \n",
    "    return data_copy"
   ]
  }
 ],
 "metadata": {
  "kernelspec": {
   "display_name": "Python 3",
   "language": "python",
   "name": "python3"
  },
  "language_info": {
   "codemirror_mode": {
    "name": "ipython",
    "version": 3
   },
   "file_extension": ".py",
   "mimetype": "text/x-python",
   "name": "python",
   "nbconvert_exporter": "python",
   "pygments_lexer": "ipython3",
   "version": "3.10.12"
  }
 },
 "nbformat": 4,
 "nbformat_minor": 2
}
