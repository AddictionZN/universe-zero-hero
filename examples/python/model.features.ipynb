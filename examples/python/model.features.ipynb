{
 "cells": [
  {
   "cell_type": "markdown",
   "metadata": {},
   "source": [
    "# Model Build Feature Functions"
   ]
  },
  {
   "cell_type": "code",
   "execution_count": null,
   "metadata": {},
   "outputs": [],
   "source": [
    "# %run ./requirements.ipynb"
   ]
  },
  {
   "cell_type": "code",
   "execution_count": null,
   "metadata": {},
   "outputs": [],
   "source": [
    "def data_preprocessing(data):\n",
    "\n",
    "    def encode_binascii(field):\n",
    "        return binascii.hexlify(field.encode('utf-8'))\n",
    "\n",
    "    def decode_binascii(field):\n",
    "        return binascii.unhexlify(field).decode('utf-8')\n",
    "    \n",
    "    def encode_p_value(hex_string):\n",
    "        int_value = int(hex_string, 16)\n",
    "        p_value = stats.uniform.cdf(int_value, 0, 1e18)\n",
    "        \n",
    "        return p_value\n",
    "    \n",
    "    def decode_p_value(p_value):\n",
    "        return int(stats.uniform.ppf(p_value, 0, 1e18))\n",
    "\n",
    "\n",
    "    data_copy = data.copy()\n",
    "    \n",
    "    data_copy.astype(float)\n",
    "\n",
    "    return data_copy"
   ]
  }
 ],
 "metadata": {
  "kernelspec": {
   "display_name": "Python 3",
   "language": "python",
   "name": "python3"
  },
  "language_info": {
   "codemirror_mode": {
    "name": "ipython",
    "version": 3
   },
   "file_extension": ".py",
   "mimetype": "text/x-python",
   "name": "python",
   "nbconvert_exporter": "python",
   "pygments_lexer": "ipython3",
   "version": "3.10.12"
  }
 },
 "nbformat": 4,
 "nbformat_minor": 2
}
